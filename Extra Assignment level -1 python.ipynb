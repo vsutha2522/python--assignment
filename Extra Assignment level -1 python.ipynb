{
 "cells": [
  {
   "cell_type": "code",
   "execution_count": 1,
   "id": "560d82a6",
   "metadata": {},
   "outputs": [
    {
     "name": "stdout",
     "output_type": "stream",
     "text": [
      "HOPE AI\n"
     ]
    }
   ],
   "source": [
    "print(\"HOPE AI\")"
   ]
  },
  {
   "cell_type": "code",
   "execution_count": 2,
   "id": "d5690fe9",
   "metadata": {},
   "outputs": [
    {
     "name": "stdout",
     "output_type": "stream",
     "text": [
      "Enter your institute name :HOPE AI\n"
     ]
    }
   ],
   "source": [
    "name=input(\"Enter your institute name :\")"
   ]
  },
  {
   "cell_type": "code",
   "execution_count": 3,
   "id": "ac648cb6",
   "metadata": {},
   "outputs": [
    {
     "name": "stdout",
     "output_type": "stream",
     "text": [
      "Enter your name:raj\n",
      "Enter your age :15\n",
      "Enter your school name:guru school\n",
      "Enter your degreeB.E cse\n"
     ]
    }
   ],
   "source": [
    "name=input(\"Enter your name:\")\n",
    "age=int(input(\"Enter your age :\"))\n",
    "school=input(\"Enter your school name:\")\n",
    "degree=input(\"Enter your degree\")"
   ]
  },
  {
   "cell_type": "code",
   "execution_count": 6,
   "id": "997cb4e1",
   "metadata": {},
   "outputs": [
    {
     "name": "stdout",
     "output_type": "stream",
     "text": [
      "a= 43\n",
      "b= 34\n",
      "ADD = 77\n"
     ]
    }
   ],
   "source": [
    "a=43\n",
    "b=34\n",
    "print(\"a=\",a)\n",
    "print(\"b=\",b)\n",
    "add=a+b\n",
    "\n",
    "print(\"ADD =\",add)"
   ]
  },
  {
   "cell_type": "code",
   "execution_count": 7,
   "id": "ca8d1e49",
   "metadata": {},
   "outputs": [
    {
     "name": "stdout",
     "output_type": "stream",
     "text": [
      "a= 43\n",
      "b= 34\n",
      "SUB = 9\n"
     ]
    }
   ],
   "source": [
    "a=43\n",
    "b=34\n",
    "print(\"a=\",a)\n",
    "print(\"b=\",b)\n",
    "sub=a-b\n",
    "\n",
    "print(\"SUB =\",sub)\n"
   ]
  },
  {
   "cell_type": "code",
   "execution_count": 9,
   "id": "2ff3d62f",
   "metadata": {},
   "outputs": [
    {
     "name": "stdout",
     "output_type": "stream",
     "text": [
      "a= 63\n",
      "b= 97\n",
      "MUL = 6111\n"
     ]
    }
   ],
   "source": [
    "a=63\n",
    "b=97\n",
    "print(\"a=\",a)\n",
    "print(\"b=\",b)\n",
    "MUL=a*b\n",
    "\n",
    "print(\"MUL =\",MUL)"
   ]
  },
  {
   "cell_type": "code",
   "execution_count": 11,
   "id": "153ffc18",
   "metadata": {},
   "outputs": [
    {
     "name": "stdout",
     "output_type": "stream",
     "text": [
      "a= 76\n",
      "b= 31\n",
      "DIV = 2.4516129032258065\n"
     ]
    }
   ],
   "source": [
    "a=76\n",
    "b=31\n",
    "print(\"a=\",a)\n",
    "print(\"b=\",b)\n",
    "DIV=a/b\n",
    "\n",
    "print(\"DIV =\",DIV)"
   ]
  },
  {
   "cell_type": "code",
   "execution_count": 12,
   "id": "1206b714",
   "metadata": {},
   "outputs": [
    {
     "name": "stdout",
     "output_type": "stream",
     "text": [
      "a= 76\n",
      "b= 31\n",
      "floor_division = 2\n"
     ]
    }
   ],
   "source": [
    "a=76\n",
    "b=31\n",
    "print(\"a=\",a)\n",
    "print(\"b=\",b)\n",
    "floor_div=a//b\n",
    "\n",
    "print(\"floor_division =\",floor_div)"
   ]
  },
  {
   "cell_type": "code",
   "execution_count": 13,
   "id": "e100dab5",
   "metadata": {},
   "outputs": [
    {
     "name": "stdout",
     "output_type": "stream",
     "text": [
      "a= 76\n",
      "b= 31\n",
      "modulo= 14\n"
     ]
    }
   ],
   "source": [
    "a=76\n",
    "b=31\n",
    "print(\"a=\",a)\n",
    "print(\"b=\",b)\n",
    "modulo=a%b\n",
    "\n",
    "print(\"modulo=\",modulo)"
   ]
  },
  {
   "cell_type": "code",
   "execution_count": 14,
   "id": "f9ae4219",
   "metadata": {},
   "outputs": [
    {
     "name": "stdout",
     "output_type": "stream",
     "text": [
      "a= 4\n",
      "b= 4\n",
      "power = 256\n"
     ]
    }
   ],
   "source": [
    "a=4\n",
    "b=4\n",
    "print(\"a=\",a)\n",
    "print(\"b=\",b)\n",
    "power=pow(a,b)\n",
    "\n",
    "print(\"power =\",power)"
   ]
  },
  {
   "cell_type": "code",
   "execution_count": null,
   "id": "dc2aebdd",
   "metadata": {},
   "outputs": [],
   "source": []
  }
 ],
 "metadata": {
  "kernelspec": {
   "display_name": "Python 3 (ipykernel)",
   "language": "python",
   "name": "python3"
  },
  "language_info": {
   "codemirror_mode": {
    "name": "ipython",
    "version": 3
   },
   "file_extension": ".py",
   "mimetype": "text/x-python",
   "name": "python",
   "nbconvert_exporter": "python",
   "pygments_lexer": "ipython3",
   "version": "3.11.5"
  }
 },
 "nbformat": 4,
 "nbformat_minor": 5
}
