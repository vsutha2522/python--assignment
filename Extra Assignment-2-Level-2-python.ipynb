{
 "cells": [
  {
   "cell_type": "code",
   "execution_count": 1,
   "id": "e17e0f6d",
   "metadata": {},
   "outputs": [
    {
     "name": "stdout",
     "output_type": "stream",
     "text": [
      "0\n",
      "1\n",
      "2\n",
      "3\n",
      "4\n",
      "5\n",
      "6\n",
      "7\n",
      "8\n",
      "9\n",
      "10\n",
      "11\n",
      "12\n",
      "13\n",
      "14\n",
      "15\n",
      "16\n",
      "17\n",
      "18\n",
      "19\n"
     ]
    }
   ],
   "source": [
    "for item in range(0,20):\n",
    "    print(item)"
   ]
  },
  {
   "cell_type": "code",
   "execution_count": 2,
   "id": "180c7104",
   "metadata": {},
   "outputs": [
    {
     "name": "stdout",
     "output_type": "stream",
     "text": [
      "20\n",
      "21\n",
      "22\n",
      "23\n",
      "24\n",
      "25\n",
      "26\n",
      "27\n",
      "28\n",
      "29\n"
     ]
    }
   ],
   "source": [
    "for item in range(20,30):\n",
    "    print(item)"
   ]
  },
  {
   "cell_type": "code",
   "execution_count": 4,
   "id": "e3028267",
   "metadata": {},
   "outputs": [
    {
     "name": "stdout",
     "output_type": "stream",
     "text": [
      "[10, 20, 14, 55, 43, 87, 76]\n",
      "number of items in the list : 7\n"
     ]
    }
   ],
   "source": [
    "\n",
    "lists=[10,20,14,55,43,87,76]\n",
    "print(lists)\n",
    "print(\"number of items in the list :\",len(lists))\n"
   ]
  },
  {
   "cell_type": "code",
   "execution_count": 16,
   "id": "b1502cc9",
   "metadata": {},
   "outputs": [
    {
     "name": "stdout",
     "output_type": "stream",
     "text": [
      "Artificial intelligence\n",
      "A\n",
      "r\n",
      "t\n",
      "i\n",
      "f\n",
      "i\n",
      "c\n",
      "i\n",
      "a\n",
      "l\n",
      " \n",
      "i\n",
      "n\n",
      "t\n",
      "e\n",
      "l\n",
      "l\n",
      "i\n",
      "g\n",
      "e\n",
      "n\n",
      "c\n",
      "e\n"
     ]
    }
   ],
   "source": [
    "name=\"Artificial intelligence\"\n",
    "print(name)\n",
    "\n",
    "for i in range(0, len(name)):\n",
    "    for s in name[i]:\n",
    "        s\n",
    "     \n",
    "    print(s)"
   ]
  },
  {
   "cell_type": "code",
   "execution_count": 17,
   "id": "d2a6ab04",
   "metadata": {},
   "outputs": [
    {
     "name": "stdout",
     "output_type": "stream",
     "text": [
      "-your name-\n",
      "-your age-\n",
      "-your profession\n"
     ]
    }
   ],
   "source": [
    "name=input(\"-your name-\")\n",
    "age=input(\"-your age-\")\n",
    "pro=input(\"-your profession\")"
   ]
  },
  {
   "cell_type": "code",
   "execution_count": 19,
   "id": "08be28f9",
   "metadata": {},
   "outputs": [
    {
     "name": "stdout",
     "output_type": "stream",
     "text": [
      "(1, 'Welcome', 2, 'Hope')\n"
     ]
    }
   ],
   "source": [
    "tup=(1,\"Welcome\",2,\"Hope\")\n",
    "print(tup)"
   ]
  },
  {
   "cell_type": "code",
   "execution_count": 20,
   "id": "115829d9",
   "metadata": {},
   "outputs": [
    {
     "name": "stdout",
     "output_type": "stream",
     "text": [
      "((1, 2, 3, 4, 5), ('Welcome', 'Hope'))\n"
     ]
    }
   ],
   "source": [
    "tup=((1,2,3,4,5),(\"Welcome\",\"Hope\"))\n",
    "print(tup)"
   ]
  },
  {
   "cell_type": "code",
   "execution_count": 23,
   "id": "1c219c20",
   "metadata": {},
   "outputs": [
    {
     "name": "stdout",
     "output_type": "stream",
     "text": [
      "odd number: 19\n",
      "odd number: 25\n",
      "odd number: 1\n"
     ]
    }
   ],
   "source": [
    "lists=[20,10,16,19,25,1,276,188]\n",
    "for i in lists:\n",
    "    if (i%2!=0):\n",
    "        print(\"odd number:\",i)\n",
    "    "
   ]
  },
  {
   "cell_type": "code",
   "execution_count": 24,
   "id": "4e6cd50d",
   "metadata": {},
   "outputs": [
    {
     "name": "stdout",
     "output_type": "stream",
     "text": [
      "even number: 20\n",
      "even number: 10\n",
      "even number: 16\n",
      "even number: 276\n",
      "even number: 188\n"
     ]
    }
   ],
   "source": [
    "lists=[20,10,16,19,25,1,276,188]\n",
    "for i in lists:\n",
    "    if (i%2==0):\n",
    "        print(\"even number:\",i)"
   ]
  },
  {
   "cell_type": "code",
   "execution_count": null,
   "id": "385dedad",
   "metadata": {},
   "outputs": [],
   "source": []
  }
 ],
 "metadata": {
  "kernelspec": {
   "display_name": "Python 3 (ipykernel)",
   "language": "python",
   "name": "python3"
  },
  "language_info": {
   "codemirror_mode": {
    "name": "ipython",
    "version": 3
   },
   "file_extension": ".py",
   "mimetype": "text/x-python",
   "name": "python",
   "nbconvert_exporter": "python",
   "pygments_lexer": "ipython3",
   "version": "3.11.5"
  }
 },
 "nbformat": 4,
 "nbformat_minor": 5
}
