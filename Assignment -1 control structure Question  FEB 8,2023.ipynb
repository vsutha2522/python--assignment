{
 "cells": [
  {
   "cell_type": "code",
   "execution_count": 1,
   "id": "3ceb062b",
   "metadata": {},
   "outputs": [
    {
     "name": "stdout",
     "output_type": "stream",
     "text": [
      "Welcome to Assignment-1\n"
     ]
    }
   ],
   "source": [
    "print(\"Welcome to Assignment-1\")"
   ]
  },
  {
   "cell_type": "code",
   "execution_count": 6,
   "id": "9a45ef30",
   "metadata": {},
   "outputs": [
    {
     "name": "stdout",
     "output_type": "stream",
     "text": [
      " Num1 =10\n",
      " Num2 =30\n",
      "ADD = 40\n"
     ]
    }
   ],
   "source": [
    "Num1=int(input(\" Num1 =\"))\n",
    "Num2=int(input(\" Num2 =\"))\n",
    "add=Num1+Num2\n",
    "print(\"ADD =\",add)"
   ]
  },
  {
   "cell_type": "code",
   "execution_count": null,
   "id": "af373a3a",
   "metadata": {},
   "outputs": [],
   "source": [
    "#body mass index"
   ]
  },
  {
   "cell_type": "code",
   "execution_count": 8,
   "id": "5d14ecf4",
   "metadata": {},
   "outputs": [
    {
     "name": "stdout",
     "output_type": "stream",
     "text": [
      "Enter the Body mass index :34\n",
      "very overweight\n"
     ]
    }
   ],
   "source": [
    "bmi=int(input(\"Enter the Body mass index :\"))\n",
    "if (bmi<18.5):\n",
    "    print(\"normal\")\n",
    "elif(bmi<30):\n",
    "    print(\" Overweight\")\n",
    "else:\n",
    "    print(\"very overweight\")"
   ]
  },
  {
   "cell_type": "code",
   "execution_count": null,
   "id": "93fd6801",
   "metadata": {},
   "outputs": [],
   "source": []
  }
 ],
 "metadata": {
  "kernelspec": {
   "display_name": "Python 3 (ipykernel)",
   "language": "python",
   "name": "python3"
  },
  "language_info": {
   "codemirror_mode": {
    "name": "ipython",
    "version": 3
   },
   "file_extension": ".py",
   "mimetype": "text/x-python",
   "name": "python",
   "nbconvert_exporter": "python",
   "pygments_lexer": "ipython3",
   "version": "3.11.5"
  }
 },
 "nbformat": 4,
 "nbformat_minor": 5
}
